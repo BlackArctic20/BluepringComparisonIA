{
  "nbformat": 4,
  "nbformat_minor": 0,
  "metadata": {
    "colab": {
      "provenance": [],
      "authorship_tag": "ABX9TyO4CBUY9z/16tagyaXd7EuR",
      "include_colab_link": true
    },
    "kernelspec": {
      "name": "python3",
      "display_name": "Python 3"
    },
    "language_info": {
      "name": "python"
    }
  },
  "cells": [
    {
      "cell_type": "markdown",
      "metadata": {
        "id": "view-in-github",
        "colab_type": "text"
      },
      "source": [
        "<a href=\"https://colab.research.google.com/github/BlackArctic20/BluepringComparisonIA/blob/main/Eduardo1.ipynb\" target=\"_parent\"><img src=\"https://colab.research.google.com/assets/colab-badge.svg\" alt=\"Open In Colab\"/></a>"
      ]
    },
    {
      "cell_type": "code",
      "source": [
        "!pip install pdf2image\n"
      ],
      "metadata": {
        "colab": {
          "base_uri": "https://localhost:8080/"
        },
        "id": "GeMJ1Cqc79Zl",
        "outputId": "037f86e4-5984-461f-e314-c11224b7aea9"
      },
      "execution_count": 15,
      "outputs": [
        {
          "output_type": "stream",
          "name": "stdout",
          "text": [
            "Requirement already satisfied: pdf2image in /usr/local/lib/python3.11/dist-packages (1.17.0)\n",
            "Requirement already satisfied: pillow in /usr/local/lib/python3.11/dist-packages (from pdf2image) (11.1.0)\n"
          ]
        }
      ]
    },
    {
      "cell_type": "code",
      "source": [
        "!apt-get install -y poppler-utils"
      ],
      "metadata": {
        "collapsed": true,
        "id": "Qj8s09LJ89II"
      },
      "execution_count": null,
      "outputs": []
    },
    {
      "cell_type": "code",
      "execution_count": 22,
      "metadata": {
        "colab": {
          "base_uri": "https://localhost:8080/",
          "height": 322
        },
        "id": "1lOaKFBDftPF",
        "outputId": "70f2f5bc-7a0a-46e1-dcff-86b3ae8304a9"
      },
      "outputs": [
        {
          "output_type": "error",
          "ename": "ValueError",
          "evalue": "NumPy boolean array indexing assignment cannot assign 3 input values to the 92271 output values where the mask is true",
          "traceback": [
            "\u001b[0;31m---------------------------------------------------------------------------\u001b[0m",
            "\u001b[0;31mValueError\u001b[0m                                Traceback (most recent call last)",
            "\u001b[0;32m<ipython-input-22-35d70df7ffd6>\u001b[0m in \u001b[0;36m<cell line: 0>\u001b[0;34m()\u001b[0m\n\u001b[1;32m    121\u001b[0m \u001b[0;34m\u001b[0m\u001b[0m\n\u001b[1;32m    122\u001b[0m \u001b[0;32mif\u001b[0m \u001b[0m__name__\u001b[0m \u001b[0;34m==\u001b[0m \u001b[0;34m\"__main__\"\u001b[0m\u001b[0;34m:\u001b[0m\u001b[0;34m\u001b[0m\u001b[0;34m\u001b[0m\u001b[0m\n\u001b[0;32m--> 123\u001b[0;31m     \u001b[0mmain\u001b[0m\u001b[0;34m(\u001b[0m\u001b[0;34m)\u001b[0m\u001b[0;34m\u001b[0m\u001b[0;34m\u001b[0m\u001b[0m\n\u001b[0m",
            "\u001b[0;32m<ipython-input-22-35d70df7ffd6>\u001b[0m in \u001b[0;36mmain\u001b[0;34m()\u001b[0m\n\u001b[1;32m    116\u001b[0m \u001b[0;34m\u001b[0m\u001b[0m\n\u001b[1;32m    117\u001b[0m     \u001b[0;31m# Compare and save differences\u001b[0m\u001b[0;34m\u001b[0m\u001b[0;34m\u001b[0m\u001b[0m\n\u001b[0;32m--> 118\u001b[0;31m     \u001b[0mcompare_images\u001b[0m\u001b[0;34m(\u001b[0m\u001b[0mold_img_tensor\u001b[0m\u001b[0;34m,\u001b[0m \u001b[0mnew_img_tensor\u001b[0m\u001b[0;34m,\u001b[0m \u001b[0mresult_path\u001b[0m\u001b[0;34m)\u001b[0m\u001b[0;34m\u001b[0m\u001b[0;34m\u001b[0m\u001b[0m\n\u001b[0m\u001b[1;32m    119\u001b[0m \u001b[0;34m\u001b[0m\u001b[0m\n\u001b[1;32m    120\u001b[0m \u001b[0;34m\u001b[0m\u001b[0m\n",
            "\u001b[0;32m<ipython-input-22-35d70df7ffd6>\u001b[0m in \u001b[0;36mcompare_images\u001b[0;34m(old_img_tensor, new_img_tensor, output_path)\u001b[0m\n\u001b[1;32m     80\u001b[0m         \u001b[0mred_indices\u001b[0m \u001b[0;34m=\u001b[0m \u001b[0mnp\u001b[0m\u001b[0;34m.\u001b[0m\u001b[0msqueeze\u001b[0m\u001b[0;34m(\u001b[0m\u001b[0mred_indices\u001b[0m\u001b[0;34m)\u001b[0m\u001b[0;34m\u001b[0m\u001b[0;34m\u001b[0m\u001b[0m\n\u001b[1;32m     81\u001b[0m \u001b[0;34m\u001b[0m\u001b[0m\n\u001b[0;32m---> 82\u001b[0;31m     \u001b[0moverlay\u001b[0m\u001b[0;34m[\u001b[0m\u001b[0mred_indices\u001b[0m\u001b[0;34m]\u001b[0m \u001b[0;34m=\u001b[0m \u001b[0;34m[\u001b[0m\u001b[0;36m255\u001b[0m\u001b[0;34m,\u001b[0m \u001b[0;36m0\u001b[0m\u001b[0;34m,\u001b[0m \u001b[0;36m0\u001b[0m\u001b[0;34m]\u001b[0m  \u001b[0;31m# Set differing pixels to red\u001b[0m\u001b[0;34m\u001b[0m\u001b[0;34m\u001b[0m\u001b[0m\n\u001b[0m\u001b[1;32m     83\u001b[0m     \u001b[0;31m# Combine original image with overlay, using appropriate data type\u001b[0m\u001b[0;34m\u001b[0m\u001b[0;34m\u001b[0m\u001b[0m\n\u001b[1;32m     84\u001b[0m     \u001b[0mblended_image\u001b[0m \u001b[0;34m=\u001b[0m \u001b[0mold_img_tensor\u001b[0m\u001b[0;34m.\u001b[0m\u001b[0mnumpy\u001b[0m\u001b[0;34m(\u001b[0m\u001b[0;34m)\u001b[0m \u001b[0;34m*\u001b[0m \u001b[0;36m255\u001b[0m \u001b[0;34m+\u001b[0m  \u001b[0moverlay\u001b[0m\u001b[0;34m\u001b[0m\u001b[0;34m\u001b[0m\u001b[0m\n",
            "\u001b[0;31mValueError\u001b[0m: NumPy boolean array indexing assignment cannot assign 3 input values to the 92271 output values where the mask is true"
          ]
        }
      ],
      "source": [
        "# -*- coding: utf-8 -*-\n",
        "\"\"\"\n",
        "Created on Tue Mar 25 10:59:43 2025\n",
        "\n",
        "@author: HUJ1GA\n",
        "\"\"\"\n",
        "\n",
        "import tensorflow as tf\n",
        "import numpy as np\n",
        "from pdf2image import convert_from_path\n",
        "import cv2\n",
        "from PIL import Image\n",
        "import os\n",
        "\n",
        "# Function to convert the first page of a PDF to a PNG image\n",
        "def pdf_to_image(pdf_path, output_path):\n",
        "    \"\"\"Converts the first page of a PDF to a PNG image.\"\"\"\n",
        "    try:\n",
        "        pages = convert_from_path(pdf_path, dpi=200)  # Convert PDF to list of PIL Image objects\n",
        "    except Exception as e:\n",
        "        print(f\"Error converting PDF: {e}\")\n",
        "        return None\n",
        "\n",
        "    if not os.path.exists(output_path):\n",
        "        os.makedirs(output_path)\n",
        "\n",
        "    if pages:\n",
        "        image_path = os.path.join(output_path, 'page.png')\n",
        "        pages[0].save(image_path, 'PNG')\n",
        "        return image_path\n",
        "    else:\n",
        "        print(\"No pages converted from PDF.\")\n",
        "        return None\n",
        "\n",
        "# Function to preprocess image for TensorFlow\n",
        "def preprocess_image(image_path):\n",
        "    \"\"\"Preprocesses an image for TensorFlow.\"\"\"\n",
        "    if not image_path:\n",
        "        return None\n",
        "\n",
        "    img = cv2.imread(image_path)\n",
        "    if img is None:\n",
        "        print(\"Error loading image.\")\n",
        "        return None\n",
        "\n",
        "    img = cv2.cvtColor(img, cv2.COLOR_BGR2RGB)  # Convert to RGB\n",
        "    img = cv2.resize(img, (512, 512))  # Resize for consistency\n",
        "    img_tensor = tf.convert_to_tensor(img, dtype=tf.float32) / 255.0  # Normalize\n",
        "    return img_tensor\n",
        "\n",
        "# Function to compare images and highlight differences\n",
        "def compare_images(old_img_tensor, new_img_tensor, output_path):  # Corrected function\n",
        "    \"\"\"Compares two images and highlights differences in red.\"\"\"\n",
        "    if old_img_tensor is None or new_img_tensor is None:\n",
        "        print(\"Cannot compare. One or both images are invalid\")\n",
        "        return\n",
        "\n",
        "    # Compute absolute difference\n",
        "    diff = tf.abs(old_img_tensor - new_img_tensor)\n",
        "\n",
        "    # Threshold to highlight significant differences\n",
        "    threshold = 0.1  # Adjust as needed\n",
        "    diff_binary = tf.where(diff > threshold, 1.0, 0.0)\n",
        "    diff_binary_np = diff_binary.numpy()\n",
        "\n",
        "    # Create overlay with correct dimensions\n",
        "    overlay = np.zeros_like(old_img_tensor.numpy())\n",
        "\n",
        "     # Apply red color using multi-dimensional slicing\n",
        "    red_indices = diff_binary_np > 0\n",
        "\n",
        "    # Ensure red_indices is 2D (important for single-channel images)\n",
        "    if red_indices.ndim == 3:\n",
        "        red_indices = np.any(red_indices, axis=-1)\n",
        "\n",
        "    overlay[red_indices] = [255, 0, 0]  # Set differing pixels to red using correct type\n",
        "\n",
        "\n",
        "    # Combine original image with overlay\n",
        "    blended_image = old_img_tensor.numpy() * 255 + overlay\n",
        "    blended_image = np.clip(blended_image, 0, 255).astype(np.uint8) # Ensure appropriate data type\n",
        "\n",
        "\n",
        "    cv2.imwrite(output_path, cv2.cvtColor(blended_image, cv2.COLOR_RGB2BGR)) #Convert back to BGR before saving.\n",
        "    print(f\"Differences saved to {output_path}\")\n",
        "\n",
        "\n",
        "\n",
        "\n",
        "# Main execution\n",
        "def main():\n",
        "    # ... (rest of the main function is the same)\n",
        "\n",
        "if __name__ == \"__main__\":\n",
        "    main()\n"
      ]
    }
  ]
}