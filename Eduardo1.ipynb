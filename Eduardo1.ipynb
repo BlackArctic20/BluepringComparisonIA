{
  "nbformat": 4,
  "nbformat_minor": 0,
  "metadata": {
    "colab": {
      "provenance": [],
      "authorship_tag": "ABX9TyOT8HAWiERM6/vFJ5bFDHaK",
      "include_colab_link": true
    },
    "kernelspec": {
      "name": "python3",
      "display_name": "Python 3"
    },
    "language_info": {
      "name": "python"
    }
  },
  "cells": [
    {
      "cell_type": "markdown",
      "metadata": {
        "id": "view-in-github",
        "colab_type": "text"
      },
      "source": [
        "<a href=\"https://colab.research.google.com/github/BlackArctic20/BluepringComparisonIA/blob/main/Eduardo1.ipynb\" target=\"_parent\"><img src=\"https://colab.research.google.com/assets/colab-badge.svg\" alt=\"Open In Colab\"/></a>"
      ]
    },
    {
      "cell_type": "code",
      "execution_count": null,
      "metadata": {
        "colab": {
          "base_uri": "https://localhost:8080/",
          "height": 394
        },
        "id": "1lOaKFBDftPF",
        "outputId": "372a4e56-a223-4954-f4cc-5727ef73bbf1"
      },
      "outputs": [
        {
          "output_type": "error",
          "ename": "ModuleNotFoundError",
          "evalue": "No module named 'pdf2image'",
          "traceback": [
            "\u001b[0;31m---------------------------------------------------------------------------\u001b[0m",
            "\u001b[0;31mModuleNotFoundError\u001b[0m                       Traceback (most recent call last)",
            "\u001b[0;32m<ipython-input-5-595b1ea1fe3f>\u001b[0m in \u001b[0;36m<cell line: 0>\u001b[0;34m()\u001b[0m\n\u001b[1;32m      8\u001b[0m \u001b[0;32mimport\u001b[0m \u001b[0mtensorflow\u001b[0m \u001b[0;32mas\u001b[0m \u001b[0mtf\u001b[0m\u001b[0;34m\u001b[0m\u001b[0;34m\u001b[0m\u001b[0m\n\u001b[1;32m      9\u001b[0m \u001b[0;32mimport\u001b[0m \u001b[0mnumpy\u001b[0m \u001b[0;32mas\u001b[0m \u001b[0mnp\u001b[0m\u001b[0;34m\u001b[0m\u001b[0;34m\u001b[0m\u001b[0m\n\u001b[0;32m---> 10\u001b[0;31m \u001b[0;32mfrom\u001b[0m \u001b[0mpdf2image\u001b[0m \u001b[0;32mimport\u001b[0m \u001b[0mconvert_from_path\u001b[0m\u001b[0;34m\u001b[0m\u001b[0;34m\u001b[0m\u001b[0m\n\u001b[0m\u001b[1;32m     11\u001b[0m \u001b[0;32mimport\u001b[0m \u001b[0mcv2\u001b[0m\u001b[0;34m\u001b[0m\u001b[0;34m\u001b[0m\u001b[0m\n\u001b[1;32m     12\u001b[0m \u001b[0;32mfrom\u001b[0m \u001b[0mPIL\u001b[0m \u001b[0;32mimport\u001b[0m \u001b[0mImage\u001b[0m\u001b[0;34m\u001b[0m\u001b[0;34m\u001b[0m\u001b[0m\n",
            "\u001b[0;31mModuleNotFoundError\u001b[0m: No module named 'pdf2image'",
            "",
            "\u001b[0;31m---------------------------------------------------------------------------\u001b[0;32m\nNOTE: If your import is failing due to a missing package, you can\nmanually install dependencies using either !pip or !apt.\n\nTo view examples of installing some common dependencies, click the\n\"Open Examples\" button below.\n\u001b[0;31m---------------------------------------------------------------------------\u001b[0m\n"
          ],
          "errorDetails": {
            "actions": [
              {
                "action": "open_url",
                "actionText": "Open Examples",
                "url": "/notebooks/snippets/importing_libraries.ipynb"
              }
            ]
          }
        }
      ],
      "source": [
        "# -*- coding: utf-8 -*-\n",
        "\"\"\"\n",
        "Created on Tue Mar 25 10:59:43 2025\n",
        "\n",
        "@author: HUJ1GA\n",
        "\"\"\"\n",
        "\n",
        "import tensorflow as tf\n",
        "import numpy as np\n",
        "from pdf2image import convert_from_path\n",
        "import cv2\n",
        "from PIL import Image\n",
        "import os\n",
        "\n",
        "# Function to convert PDF to image\n",
        "def pdf_to_image(pdf_path, output_path):\n",
        "    pages = convert_from_path(pdf_path, dpi=200) # Adjust DPI for resolution\n",
        "    if not os.path.exists(output_path):\n",
        "        os.makedirs(output_path)\n",
        "        image_path = os.path.join(output_path, 'page.png')\n",
        "        pages[0].save(image_path, 'PNG') # Save first page as PNG\n",
        "        return image_path\n",
        "\n",
        "# Function to preprocess image for TensorFlow\n",
        "def preprocess_image(image_path):\n",
        "    img = cv2.imread(image_path)\n",
        "    img = cv2.cvtColor(img, cv2.COLOR_BGR2RGB) # Convert to RGB\n",
        "    img = cv2.resize(img, (512, 512)) # Resize for consistency\n",
        "    img_tensor = tf.convert_to_tensor(img, dtype=tf.float32) / 255.0 # Normalize to [0, 1]\n",
        "    return img_tensor\n",
        "\n",
        "# Function to compare images and highlight differences\n",
        "def compare_images(old_img_tensor, new_img_tensor, output_path):\n",
        "    # Compute SSIM\n",
        "    ssim = tf.image.ssim(old_img_tensor, new_img_tensor, max_val=1.0)  # SSIM values are between -1 and 1\n",
        "    diff = 1.0 - ssim # Get the difference (0 means identical, 2 means completely different)\n",
        "\n",
        "    # ... (rest of the compare_images function is the same)\n",
        "\n",
        "def main():\n",
        "    # ... (PDF paths, output directory)\n",
        "\n",
        "    old_images = convert_from_path('00_Honda', dpi=200)\n",
        "    new_images = convert_from_path('01_Honda', dpi=200)\n",
        "\n",
        "    num_pages = min(len(old_images), len(new_images))\n",
        "\n",
        "    for i in range(num_pages):\n",
        "        old_img = np.array(old_images[i])\n",
        "        new_img = np.array(new_images[i])\n",
        "\n",
        "        if old_img.shape != new_img.shape:\n",
        "            print(f\"Page {i+1}: Dimensions differ, skipping comparison.\")\n",
        "            continue\n",
        "\n",
        "        old_img_tensor = tf.convert_to_tensor(old_img, dtype=tf.float32) / 255.0\n",
        "        new_img_tensor = tf.convert_to_tensor(new_img, dtype=tf.float32) / 255.0\n",
        "\n",
        "\n",
        "        result_path = os.path.join(output_dir, f\"differences_page_{i+1}.png\")\n",
        "        compare_images(old_img_tensor, new_img_tensor, result_path)\n",
        "\n",
        "\n",
        "if __name__ == \"__main__\":\n",
        "    main()"
      ]
    }
  ]
}