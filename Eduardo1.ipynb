{
  "nbformat": 4,
  "nbformat_minor": 0,
  "metadata": {
    "colab": {
      "provenance": [],
      "authorship_tag": "ABX9TyNSvYFUHVjgB+6jz6scIjuH",
      "include_colab_link": true
    },
    "kernelspec": {
      "name": "python3",
      "display_name": "Python 3"
    },
    "language_info": {
      "name": "python"
    }
  },
  "cells": [
    {
      "cell_type": "markdown",
      "metadata": {
        "id": "view-in-github",
        "colab_type": "text"
      },
      "source": [
        "<a href=\"https://colab.research.google.com/github/BlackArctic20/BluepringComparisonIA/blob/main/Eduardo1.ipynb\" target=\"_parent\"><img src=\"https://colab.research.google.com/assets/colab-badge.svg\" alt=\"Open In Colab\"/></a>"
      ]
    },
    {
      "cell_type": "code",
      "source": [
        "!pip install pdf2image\n"
      ],
      "metadata": {
        "colab": {
          "base_uri": "https://localhost:8080/"
        },
        "id": "GeMJ1Cqc79Zl",
        "outputId": "f3b6bae7-2f77-4156-8ff0-9e576da50224"
      },
      "execution_count": 1,
      "outputs": [
        {
          "output_type": "stream",
          "name": "stdout",
          "text": [
            "Requirement already satisfied: pdf2image in /usr/local/lib/python3.11/dist-packages (1.17.0)\n",
            "Requirement already satisfied: pillow in /usr/local/lib/python3.11/dist-packages (from pdf2image) (11.1.0)\n"
          ]
        }
      ]
    },
    {
      "cell_type": "code",
      "source": [
        "!apt-get install -y poppler-utils"
      ],
      "metadata": {
        "colab": {
          "base_uri": "https://localhost:8080/"
        },
        "collapsed": true,
        "id": "Qj8s09LJ89II",
        "outputId": "c14728a7-a551-4ba9-8d00-54b39b232160"
      },
      "execution_count": 2,
      "outputs": [
        {
          "output_type": "stream",
          "name": "stdout",
          "text": [
            "Reading package lists... Done\n",
            "Building dependency tree... Done\n",
            "Reading state information... Done\n",
            "poppler-utils is already the newest version (22.02.0-2ubuntu0.6).\n",
            "0 upgraded, 0 newly installed, 0 to remove and 29 not upgraded.\n"
          ]
        }
      ]
    },
    {
      "cell_type": "code",
      "execution_count": 10,
      "metadata": {
        "id": "1lOaKFBDftPF"
      },
      "outputs": [],
      "source": [
        "# -*- coding: utf-8 -*-\n",
        "\"\"\"\n",
        "Created on Tue Mar 25 10:59:43 2025\n",
        "\n",
        "@author: HUJ1GA\n",
        "\"\"\"\n",
        "\n",
        "import tensorflow as tf\n",
        "import numpy as np\n",
        "from pdf2image import convert_from_path\n",
        "import cv2\n",
        "from PIL import Image\n",
        "import os\n",
        "\n",
        "# Function to convert the first page of a PDF to a PNG image\n",
        "def pdf_to_image(pdf_path, output_path):\n",
        "    \"\"\"Converts the first page of a PDF to a PNG image.\"\"\"\n",
        "    try:\n",
        "        pages = convert_from_path(pdf_path, dpi=200)  # Convert PDF to list of PIL Image objects\n",
        "    except Exception as e:\n",
        "        print(f\"Error converting PDF: {e}\")\n",
        "        return None\n",
        "\n",
        "    if not os.path.exists(output_path):\n",
        "        os.makedirs(output_path)\n",
        "\n",
        "    if pages:\n",
        "        image_path = os.path.join(output_path, 'page.png')\n",
        "        pages[0].save(image_path, 'PNG')\n",
        "        return image_path\n",
        "    else:\n",
        "        print(\"No pages converted from PDF.\")\n",
        "        return None\n",
        "\n",
        "# Function to preprocess image for TensorFlow\n",
        "def preprocess_image(image_path):\n",
        "    \"\"\"Preprocesses an image for TensorFlow.\"\"\"\n",
        "    if not image_path:\n",
        "        return None\n",
        "\n",
        "    img = cv2.imread(image_path)\n",
        "    if img is None:\n",
        "        print(\"Error loading image.\")\n",
        "        return None\n",
        "\n",
        "    img = cv2.cvtColor(img, cv2.COLOR_BGR2RGB)  # Convert to RGB\n",
        "    img = cv2.resize(img, (512, 512))  # Resize for consistency\n",
        "    img_tensor = tf.convert_to_tensor(img, dtype=tf.float32) / 255.0  # Normalize\n",
        "    return img_tensor\n",
        "\n",
        "# Function to compare images and highlight differences\n",
        "def compare_images(old_img_tensor, new_img_tensor, output_path):  # Corrected function\n",
        "    \"\"\"Compares two images and highlights differences in red.\"\"\"\n",
        "    if old_img_tensor is None or new_img_tensor is None:\n",
        "        print(\"Cannot compare. One or both images are invalid\")\n",
        "        return\n",
        "\n",
        "    # Compute absolute difference\n",
        "    diff = tf.abs(old_img_tensor - new_img_tensor)\n",
        "\n",
        "    # Threshold to highlight significant differences\n",
        "    threshold = 0.1  # Adjust as needed\n",
        "    diff_binary = tf.where(diff > threshold, 1.0, 0.0)\n",
        "    diff_binary_np = diff_binary.numpy()\n",
        "\n",
        "    # Create overlay with correct dimensions\n",
        "    overlay = np.zeros_like(old_img_tensor.numpy())\n",
        "\n",
        "     # Apply red color using multi-dimensional slicing\n",
        "    red_indices = diff_binary_np > 0\n",
        "\n",
        "    # Ensure red_indices is 2D (important for single-channel images)\n",
        "    if red_indices.ndim == 3:\n",
        "        red_indices = np.any(red_indices, axis=-1)\n",
        "\n",
        "    overlay[red_indices] = [255, 0, 0]  # Set differing pixels to red using correct type\n",
        "\n",
        "\n",
        "    # Combine original image with overlay\n",
        "    blended_image = old_img_tensor.numpy() * 255 + overlay\n",
        "    blended_image = np.clip(blended_image, 0, 255).astype(np.uint8) # Ensure appropriate data type\n",
        "\n",
        "\n",
        "    cv2.imwrite(output_path, cv2.cvtColor(blended_image, cv2.COLOR_RGB2BGR)) #Convert back to BGR before saving.\n",
        "    print(f\"Differences saved to {output_path}\")\n",
        "\n",
        "\n",
        "\n",
        "\n",
        "# Main execution\n",
        "def main():\n",
        "    # ... (rest of the main function is the same)\n",
        "    pass # Added a pass statement as a placeholder. Replace with your main logic.\n",
        "\n",
        "if __name__ == \"__main__\":\n",
        "    main() # Call the main function when the script is executed.\n",
        ""
      ]
    }
  ]
}